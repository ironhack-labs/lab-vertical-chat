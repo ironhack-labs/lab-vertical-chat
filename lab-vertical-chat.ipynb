{
 "cells": [
  {
   "cell_type": "markdown",
   "id": "c23b4dd1",
   "metadata": {
    "id": "c23b4dd1"
   },
   "source": [
    "# Vertical Chat\n",
    "A sample how to build a chat for small business using:\n",
    "\n",
    "* GPT 35\n",
    "* Panel\n",
    "* OpenAI\n",
    "\n",
    "\n",
    "This is just a simple sample to start to understand how the OpenAI API works, and how to create Prompts. It Is really far from beign a complete solution.\n",
    "We are going to introduce some interesting points:\n",
    "\n",
    "* The roles in a conversation.\n",
    "* How is the conversations’ memory preserved?\n",
    "\n",
    "Deeper explanations in the article: [Create Your First Chatbot Using GPT 3.5, OpenAI, Python and Panel.](https://medium.com/towards-artificial-intelligence/create-your-first-chatbot-using-gpt-3-5-openai-python-and-panel-7ec180b9d7f2)"
   ]
  },
  {
   "cell_type": "code",
   "execution_count": 2,
   "id": "a03f026a",
   "metadata": {
    "id": "a03f026a",
    "tags": []
   },
   "outputs": [],
   "source": [
    "import openai\n",
    "import os\n",
    "\n",
    "from dotenv import load_dotenv, find_dotenv\n",
    "_ = load_dotenv(find_dotenv()) # read local .env file\n",
    "\n",
    "OPENAI_API_KEY  = os.getenv('OPENAI_API_KEY')"
   ]
  },
  {
   "cell_type": "code",
   "execution_count": 3,
   "id": "77eac86d",
   "metadata": {
    "id": "77eac86d",
    "tags": []
   },
   "outputs": [],
   "source": [
    "import openai\n",
    "\n",
    "openai.api_key = OPENAI_API_KEY\n",
    "\n",
    "def get_completion(prompt, model=\"gpt-3.5-turbo\", temperature=0): \n",
    "    messages = [{\"role\": \"user\", \"content\": prompt}]\n",
    "    response = openai.ChatCompletion.create(\n",
    "        model=model,\n",
    "        messages=messages,\n",
    "        temperature=temperature, \n",
    "    )\n",
    "    return response.choices[0].message.content\n",
    "\n",
    "def get_completion_from_messages(messages, model=\"gpt-3.5-turbo\", temperature=0): \n",
    "    response = openai.ChatCompletion.create(\n",
    "        model=model,\n",
    "        messages=messages,\n",
    "        temperature=temperature, \n",
    "    )\n",
    "    return response.choices[0].message.content"
   ]
  },
  {
   "cell_type": "code",
   "execution_count": 4,
   "id": "51bec475",
   "metadata": {
    "id": "51bec475",
    "tags": []
   },
   "outputs": [],
   "source": [
    "def add_prompts_conversation(_):\n",
    "    #Get the value introduced by the user\n",
    "    prompt = client_prompt.value_input\n",
    "    client_prompt.value = ''\n",
    "\n",
    "    #Append to the context the User prompt.\n",
    "    context.append({'role':'user', 'content':f\"{prompt}\"})\n",
    "\n",
    "    #Get the response.\n",
    "    response = continue_conversation(context)\n",
    "\n",
    "    #Add the response to the context.\n",
    "    context.append({'role':'assistant', 'content':f\"{response}\"})\n",
    "\n",
    "    #Update the panels to show the conversation.\n",
    "    panels.append(\n",
    "        pn.Row('User:', pn.pane.Markdown(prompt, width=600)))\n",
    "    panels.append(\n",
    "        pn.Row('Assistant:', pn.pane.Markdown(response, width=600)))\n",
    "\n",
    "    return pn.Column(*panels)"
   ]
  },
  {
   "cell_type": "code",
   "execution_count": 13,
   "id": "922f8d24",
   "metadata": {
    "colab": {
     "base_uri": "https://localhost:8080/",
     "height": 573
    },
    "id": "922f8d24",
    "outputId": "93183987-3b29-4430-d8cc-6d6453a98574",
    "tags": []
   },
   "outputs": [
    {
     "data": {
      "application/vnd.jupyter.widget-view+json": {
       "model_id": "70a202ce369b4f429b06fe6b2b8f9226",
       "version_major": 2,
       "version_minor": 0
      },
      "text/plain": [
       "Text(value='', placeholder='Enter your message...')"
      ]
     },
     "metadata": {},
     "output_type": "display_data"
    },
    {
     "data": {
      "application/vnd.jupyter.widget-view+json": {
       "model_id": "f4dcacd2ea7e482ba5bfb3c2815b77c9",
       "version_major": 2,
       "version_minor": 0
      },
      "text/plain": [
       "Button(description='Send', style=ButtonStyle())"
      ]
     },
     "metadata": {},
     "output_type": "display_data"
    },
    {
     "data": {
      "application/vnd.jupyter.widget-view+json": {
       "model_id": "d87287725bc842cca9705bd96ce920e6",
       "version_major": 2,
       "version_minor": 0
      },
      "text/plain": [
       "Output()"
      ]
     },
     "metadata": {},
     "output_type": "display_data"
    }
   ],
   "source": [
    "import ipywidgets as widgets\n",
    "from IPython.display import display, clear_output\n",
    "import openai\n",
    "import os\n",
    "\n",
    "openai.api_key = os.environ[\"OPENAI_API_KEY\"]\n",
    "\n",
    "# Create widgets\n",
    "input_box = widgets.Text(placeholder='Enter your message...')\n",
    "send_button = widgets.Button(description='Send')\n",
    "output_area = widgets.Output()\n",
    "\n",
    "# Context for the conversation\n",
    "context = [{'role': 'system', 'content': \"\"\"\n",
    "Act as an OrderBot, you work collecting orders in a delivery-only fast food restaurant called\n",
    "My Dear Frankfurt. Try not to repeat yourself. \\\n",
    "First welcome the customer in a very friendly way, then collect the order. \\\n",
    "You wait to collect the entire order, beverages included, \\\n",
    "then summarize it and check for a final \\\n",
    "time if everything is ok or the customer wants to add anything else. \\\n",
    "Finally, you collect the payment.\\\n",
    "Make sure to clarify all options, extras, and sizes to uniquely \\\n",
    "identify the item from the menu.\\\n",
    "You respond in a short, very friendly style. \\\n",
    "The menu includes \\\n",
    "burger  12.95, 10.00, 7.00 \\\n",
    "frankfurt   10.95, 9.25, 6.50 \\\n",
    "sandwich   11.95, 9.75, 6.75 \\\n",
    "fries 4.50, 3.50 \\\n",
    "salad 7.25 \\\n",
    "Toppings: \\\n",
    "extra cheese 2.00, \\\n",
    "mushrooms 1.50 \\\n",
    "martra sausage 3.00 \\\n",
    "canadian bacon 3.50 \\\n",
    "romesco sauce 1.50 \\\n",
    "peppers 1.00 \\\n",
    "Drinks: \\\n",
    "coke 3.00, 2.00, 1.00 \\\n",
    "sprite 3.00, 2.00, 1.00 \\\n",
    "vichy catalan 5.00 \\\n",
    "\"\"\"}]\n",
    "\n",
    "# Separate display history to prevent repeating messages\n",
    "display_history = []\n",
    "\n",
    "def on_button_click(b):\n",
    "    user_message = input_box.value.strip()\n",
    "    if user_message:\n",
    "        context.append({'role': 'user', 'content': user_message})\n",
    "        \n",
    "        # Generate assistant's response\n",
    "        response = openai.ChatCompletion.create(\n",
    "            model='gpt-3.5-turbo',  # Use 'gpt-4' if you have access\n",
    "            messages=context\n",
    "        )\n",
    "        \n",
    "        assistant_message = response['choices'][0]['message']['content']\n",
    "        context.append({'role': 'assistant', 'content': assistant_message})\n",
    "        \n",
    "        # Update display history\n",
    "        display_history.append((f\"User: {user_message}\", f\"Assistant: {assistant_message}\"))\n",
    "        \n",
    "        # Display only the latest conversation\n",
    "        with output_area:\n",
    "            clear_output(wait=True)\n",
    "            for user_msg, assistant_msg in display_history:\n",
    "                print(user_msg)\n",
    "                print(assistant_msg)\n",
    "    \n",
    "    input_box.value = ''  # Clear the input box\n",
    "\n",
    "# Link the button click event to the function\n",
    "send_button.on_click(on_button_click)\n",
    "\n",
    "# Display the widgets\n",
    "display(input_box, send_button, output_area)"
   ]
  },
  {
   "cell_type": "markdown",
   "id": "711f85ad-7069-41e9-8af3-309b2bc81152",
   "metadata": {},
   "source": [
    "# Exercise\n",
    " - Complete the prompts similar to what we did in class. \n",
    "     - Try at least 3 versions\n",
    "     - Be creative\n",
    " - Write a one page report summarizing your findings.\n",
    "     - Were there variations that didn't work well? i.e., where GPT either hallucinated or wrong\n",
    " - What did you learn?"
   ]
  },
  {
   "cell_type": "code",
   "execution_count": 14,
   "id": "104813b5-9265-489d-8dc4-2cde2f5ef3af",
   "metadata": {},
   "outputs": [
    {
     "data": {
      "application/vnd.jupyter.widget-view+json": {
       "model_id": "ccd2b72fcfb64558a6ca9c51803c15b8",
       "version_major": 2,
       "version_minor": 0
      },
      "text/plain": [
       "Text(value='', placeholder='Enter your message...')"
      ]
     },
     "metadata": {},
     "output_type": "display_data"
    },
    {
     "data": {
      "application/vnd.jupyter.widget-view+json": {
       "model_id": "04fa0b9dd4a74fb2925cef59b7d8f13e",
       "version_major": 2,
       "version_minor": 0
      },
      "text/plain": [
       "Button(description='Send', style=ButtonStyle())"
      ]
     },
     "metadata": {},
     "output_type": "display_data"
    },
    {
     "data": {
      "application/vnd.jupyter.widget-view+json": {
       "model_id": "262bd5efd2234283b142b1b3b55ed6ac",
       "version_major": 2,
       "version_minor": 0
      },
      "text/plain": [
       "Output()"
      ]
     },
     "metadata": {},
     "output_type": "display_data"
    }
   ],
   "source": [
    "# VERSION 1 \n",
    "\n",
    "openai.api_key = os.environ[\"OPENAI_API_KEY\"]\n",
    "\n",
    "# Create widgets\n",
    "input_box = widgets.Text(placeholder='Enter your message...')\n",
    "send_button = widgets.Button(description='Send')\n",
    "output_area = widgets.Output()\n",
    "\n",
    "# Context for the conversation\n",
    "context = context = [{'role': 'system', 'content': \"\"\"\n",
    "Act as an OrderBot, you work collecting orders in a Chinese food restaurant called\n",
    "Dragon Delight. Try not to repeat yourself. \\\n",
    "First welcome the customer in a very friendly way, then collect the order. \\\n",
    "You wait to collect the entire order, beverages included, \\\n",
    "then summarize it and check for a final \\\n",
    "time if everything is ok or if the customer wants to add anything else. \\\n",
    "Finally, you collect the payment.\\\n",
    "Make sure to clarify all options, extras, and portion sizes to uniquely \\\n",
    "identify the item from the menu.\\\n",
    "You respond in a short, very friendly style. \\\n",
    "The menu includes \\\n",
    "Spring Rolls 5.95 \\\n",
    "Dumplings (Pork, Chicken, or Veggie) 8.50 \\\n",
    "Sweet and Sour Chicken 12.95, 10.50 \\\n",
    "Kung Pao Chicken 13.75, 11.25 \\\n",
    "Beef with Broccoli 14.50, 12.00 \\\n",
    "Vegetable Fried Rice 9.95, 7.50 \\\n",
    "Chicken Chow Mein 11.95, 9.95 \\\n",
    "Extras: \\\n",
    "Extra rice 2.50 \\\n",
    "Hot sauce 0.50 \\\n",
    "Soy sauce 0.25 \\\n",
    "Chili oil 1.00 \\\n",
    "Drinks: \\\n",
    "Green Tea 2.00 \\\n",
    "Jasmine Tea 3.00 \\\n",
    "Iced Tea 2.50 \\\n",
    "Bottled Water 1.50 \\\n",
    "\"\"\"}]\n",
    "\n",
    "# Separate display history to prevent repeating messages\n",
    "display_history = []\n",
    "\n",
    "def on_button_click(b):\n",
    "    user_message = input_box.value.strip()\n",
    "    if user_message:\n",
    "        context.append({'role': 'user', 'content': user_message})\n",
    "        \n",
    "        # Generate assistant's response\n",
    "        response = openai.ChatCompletion.create(\n",
    "            model='gpt-3.5-turbo',  # Use 'gpt-4' if you have access\n",
    "            messages=context\n",
    "        )\n",
    "        \n",
    "        assistant_message = response['choices'][0]['message']['content']\n",
    "        context.append({'role': 'assistant', 'content': assistant_message})\n",
    "        \n",
    "        # Update display history\n",
    "        display_history.append((f\"User: {user_message}\", f\"Assistant: {assistant_message}\"))\n",
    "        \n",
    "        # Display only the latest conversation\n",
    "        with output_area:\n",
    "            clear_output(wait=True)\n",
    "            for user_msg, assistant_msg in display_history:\n",
    "                print(user_msg)\n",
    "                print(assistant_msg)\n",
    "    \n",
    "    input_box.value = ''  # Clear the input box\n",
    "\n",
    "# Link the button click event to the function\n",
    "send_button.on_click(on_button_click)\n",
    "\n",
    "# Display the widgets\n",
    "display(input_box, send_button, output_area)"
   ]
  },
  {
   "cell_type": "code",
   "execution_count": 15,
   "id": "604c8538",
   "metadata": {},
   "outputs": [
    {
     "data": {
      "application/vnd.jupyter.widget-view+json": {
       "model_id": "2fb0401f15ba4397b3be4a4eaade911a",
       "version_major": 2,
       "version_minor": 0
      },
      "text/plain": [
       "Text(value='', placeholder='Enter your message...')"
      ]
     },
     "metadata": {},
     "output_type": "display_data"
    },
    {
     "data": {
      "application/vnd.jupyter.widget-view+json": {
       "model_id": "3a547b7f055240d1a6fff0e6b5d6692f",
       "version_major": 2,
       "version_minor": 0
      },
      "text/plain": [
       "Button(description='Send', style=ButtonStyle())"
      ]
     },
     "metadata": {},
     "output_type": "display_data"
    },
    {
     "data": {
      "application/vnd.jupyter.widget-view+json": {
       "model_id": "d06fe43f897f4a7996fe64eac7e83aaf",
       "version_major": 2,
       "version_minor": 0
      },
      "text/plain": [
       "Output()"
      ]
     },
     "metadata": {},
     "output_type": "display_data"
    }
   ],
   "source": [
    "# VERSION 2 \n",
    "\n",
    "openai.api_key = os.environ[\"OPENAI_API_KEY\"]\n",
    "\n",
    "# Create widgets\n",
    "input_box = widgets.Text(placeholder='Enter your message...')\n",
    "send_button = widgets.Button(description='Send')\n",
    "output_area = widgets.Output()\n",
    "\n",
    "# Context for the conversation\n",
    "context = [{'role': 'system', 'content': \"\"\"\n",
    "Act as an OrderBot, but for taking reservations in a mysterious and slightly creepy hotel called\n",
    "The Eerie Inn. You are welcoming, yet have a subtly unsettling charm. Try not to repeat yourself. \\\n",
    "First, welcome the guest in a very friendly but slightly eerie way, then proceed to collect the reservation details. \\\n",
    "Wait to gather all the necessary information, including the room type and duration of stay, \\\n",
    "then summarize the reservation and check for a final \\\n",
    "time if everything is correct or if the guest wants to make any changes. \\\n",
    "Finally, you confirm the booking and explain the payment process.\\\n",
    "Make sure to clarify all room types and options to ensure the guest selects exactly what they desire.\\\n",
    "Respond in a short, slightly mysterious, and captivating style. \\\n",
    "The room options include: \\\n",
    "Basement Rooms: Dark and quiet, with minimal lighting and a mysterious ambiance. $80 per night. \\\n",
    "Regular Rooms: Cozy but with a vintage touch, offering a window view of the foggy forest. $120 per night. \\\n",
    "Balcony Rooms: Slightly larger, with a creaky balcony that overlooks the graveyard. $150 per night. \\\n",
    "Suites: Spacious rooms with antique furniture, a fireplace, and peculiar paintings that seem to watch you. $250 per night. \\\n",
    "Penthouse Suite: The most luxurious and eerie room, with a grand view of the haunted hills and a private library. $400 per night. \\\n",
    "\"\"\"}]\n",
    "\n",
    "# Separate display history to prevent repeating messages\n",
    "display_history = []\n",
    "\n",
    "def on_button_click(b):\n",
    "    user_message = input_box.value.strip()\n",
    "    if user_message:\n",
    "        context.append({'role': 'user', 'content': user_message})\n",
    "        \n",
    "        # Generate assistant's response\n",
    "        response = openai.ChatCompletion.create(\n",
    "            model='gpt-3.5-turbo',  # Use 'gpt-4' if you have access\n",
    "            messages=context\n",
    "        )\n",
    "        \n",
    "        assistant_message = response['choices'][0]['message']['content']\n",
    "        context.append({'role': 'assistant', 'content': assistant_message})\n",
    "        \n",
    "        # Update display history\n",
    "        display_history.append((f\"User: {user_message}\", f\"Assistant: {assistant_message}\"))\n",
    "        \n",
    "        # Display only the latest conversation\n",
    "        with output_area:\n",
    "            clear_output(wait=True)\n",
    "            for user_msg, assistant_msg in display_history:\n",
    "                print(user_msg)\n",
    "                print(assistant_msg)\n",
    "    \n",
    "    input_box.value = ''  # Clear the input box\n",
    "\n",
    "# Link the button click event to the function\n",
    "send_button.on_click(on_button_click)\n",
    "\n",
    "# Display the widgets\n",
    "display(input_box, send_button, output_area)"
   ]
  },
  {
   "cell_type": "code",
   "execution_count": 16,
   "id": "952deb1d",
   "metadata": {},
   "outputs": [
    {
     "data": {
      "application/vnd.jupyter.widget-view+json": {
       "model_id": "13c180f9aa144ac8a8e41eb37f2497c5",
       "version_major": 2,
       "version_minor": 0
      },
      "text/plain": [
       "Text(value='', placeholder='Enter your message...')"
      ]
     },
     "metadata": {},
     "output_type": "display_data"
    },
    {
     "data": {
      "application/vnd.jupyter.widget-view+json": {
       "model_id": "5d9bbb1cf9324451ac47533d986ecdcb",
       "version_major": 2,
       "version_minor": 0
      },
      "text/plain": [
       "Button(description='Send', style=ButtonStyle())"
      ]
     },
     "metadata": {},
     "output_type": "display_data"
    },
    {
     "data": {
      "application/vnd.jupyter.widget-view+json": {
       "model_id": "8871585c1a054199912b202e7ecdcd6c",
       "version_major": 2,
       "version_minor": 0
      },
      "text/plain": [
       "Output()"
      ]
     },
     "metadata": {},
     "output_type": "display_data"
    }
   ],
   "source": [
    "# VERSION 3\n",
    "\n",
    "openai.api_key = os.environ[\"OPENAI_API_KEY\"]\n",
    "\n",
    "# Create widgets\n",
    "input_box = widgets.Text(placeholder='Enter your message...')\n",
    "send_button = widgets.Button(description='Send')\n",
    "output_area = widgets.Output()\n",
    "\n",
    "# Context for the conversation\n",
    "context = [{'role': 'system', 'content': \"\"\"\n",
    "Act as an OrderBot, you work taking takeaway orders in a lively Tapas bar called\n",
    "El Rincón de las Tapas. Try not to repeat yourself. \\\n",
    "First, welcome the customer in a very friendly and energetic way, then proceed to collect the order. \\\n",
    "Wait to gather the entire order, including any drinks, \\\n",
    "then summarize it and check for a final time if everything is correct or if the customer wants to add anything else. \\\n",
    "Finally, you confirm the order and explain the payment process.\\\n",
    "Make sure to clarify all options, portion sizes, and extras to uniquely identify each item from the menu.\\\n",
    "You respond in a short, very friendly, and welcoming style. \\\n",
    "The menu includes: \\\n",
    "Patatas Bravas 6.50 \\\n",
    "Gambas al Ajillo 9.75 \\\n",
    "Chorizo a la Sidra 8.50 \\\n",
    "Croquetas de Jamón 7.25 \\\n",
    "Tortilla Española 5.95 \\\n",
    "Pan con Tomate 3.50 \\\n",
    "Calamares Fritos 10.95 \\\n",
    "Cheese Platter 12.50 \\\n",
    "Extras: \\\n",
    "Alioli sauce 1.00 \\\n",
    "Spicy Salsa 1.00 \\\n",
    "Olives 2.50 \\\n",
    "Drinks: \\\n",
    "Sangria (Glass) 4.50 \\\n",
    "Spanish Beer 3.50 \\\n",
    "Red Wine 5.00 \\\n",
    "Sparkling Water 2.00 \\\n",
    "\"\"\"}]\n",
    "\n",
    "# Separate display history to prevent repeating messages\n",
    "display_history = []\n",
    "\n",
    "def on_button_click(b):\n",
    "    user_message = input_box.value.strip()\n",
    "    if user_message:\n",
    "        context.append({'role': 'user', 'content': user_message})\n",
    "        \n",
    "        # Generate assistant's response\n",
    "        response = openai.ChatCompletion.create(\n",
    "            model='gpt-3.5-turbo',  # Use 'gpt-4' if you have access\n",
    "            messages=context\n",
    "        )\n",
    "        \n",
    "        assistant_message = response['choices'][0]['message']['content']\n",
    "        context.append({'role': 'assistant', 'content': assistant_message})\n",
    "        \n",
    "        # Update display history\n",
    "        display_history.append((f\"User: {user_message}\", f\"Assistant: {assistant_message}\"))\n",
    "        \n",
    "        # Display only the latest conversation\n",
    "        with output_area:\n",
    "            clear_output(wait=True)\n",
    "            for user_msg, assistant_msg in display_history:\n",
    "                print(user_msg)\n",
    "                print(assistant_msg)\n",
    "    \n",
    "    input_box.value = ''  # Clear the input box\n",
    "\n",
    "# Link the button click event to the function\n",
    "send_button.on_click(on_button_click)\n",
    "\n",
    "# Display the widgets\n",
    "display(input_box, send_button, output_area)"
   ]
  },
  {
   "cell_type": "markdown",
   "id": "ad0d0349",
   "metadata": {},
   "source": [
    "REPORT:"
   ]
  },
  {
   "cell_type": "markdown",
   "id": "78d3ca62",
   "metadata": {},
   "source": [
    "Findings\n",
    "\n",
    "\t1.\tChinese Restaurant (Dragon Delight)\n",
    "\t•\tPerformance: The chatbot handled the interaction relatively well by remaining on topic and guiding the user back to the correct menu items when they requested American food.\n",
    "\t•\tRepetitive Behavior: The chatbot did exhibit repetitive behavior in response to the same user inputs, which led to a less engaging experience. It often repeated its opening lines and assurances, suggesting that it didn’t fully grasp that the user had already acknowledged its previous response.\n",
    "\t•\tHallucination: The bot humorously handled exaggerated orders like “one ton of rice” and “a swimming pool of green tea,” demonstrating flexibility in interpretation without breaking the conversation flow. However, it didn’t explicitly challenge the unrealistic requests, which could be improved.\n",
    "\t2.\tCreepy Hotel (The Eerie Inn)\n",
    "\t•\tPerformance: The bot’s responses fit the creepy hotel theme well, maintaining a mysterious tone throughout the conversation. It effectively matched the atmosphere of “The Eerie Inn” and even personalized the responses to suit the spooky setting.\n",
    "\t•\tRepetitive Behavior: While it didn’t repeat the exact phrases as much as the restaurant bot, it still reverted to similar sentence structures when responding to similar prompts, which slightly diminished the eerie experience.\n",
    "\t•\tHallucination: The chatbot maintained coherence, even when presented with mundane requests like paying with cash. It successfully avoided hallucinating responses and stuck to the scripted room descriptions and prices.\n",
    "\t3.\tTapas Bar (El Rincón de las Tapas)\n",
    "\t•\tPerformance: The chatbot performed well in the tapas bar scenario, accurately presenting the menu and calculating the total order cost without errors. It maintained a friendly and engaging tone suitable for a casual setting.\n",
    "\t•\tRepetitive Behavior: Like the other versions, this chatbot also showed some repetition. It responded with similar opening lines when the user initiated the conversation again, indicating a need for more variation in greetings and transitions.\n",
    "\t•\tHallucination: The bot successfully interpreted the menu items without inventing non-existent items or prices, maintaining clarity and focus throughout the conversation.\n",
    "\n",
    "Analysis of Common Issues\n",
    "\n",
    "\t1.\tRepetition\n",
    "\t•\tAcross all three versions, a recurring issue was the chatbot’s tendency to repeat similar lines or phrases when faced with identical or similar prompts. This repetition suggests that the conversational history was not being optimally leveraged to avoid redundancy.\n",
    "\t2.\tHandling Unrealistic Orders\n",
    "\t•\tIn the Chinese restaurant scenario, the bot didn’t adequately handle unrealistic orders like “one ton of rice” or “a swimming pool of green tea.” Although it showed flexibility, explicitly managing or acknowledging the absurdity of these requests could improve user experience.\n",
    "\t3.\tThematic Adaptation\n",
    "\t•\tThe creepy hotel chatbot was the most thematically consistent, maintaining an eerie tone throughout, which added to the user experience. The ability to adapt tone and style was less pronounced in the Chinese restaurant and tapas bar contexts, which were more straightforward and lacked thematic flair.\n",
    "\n",
    "Conclusion\n",
    "\n",
    "\t•\tVariations That Didn’t Work Well: The main issue across all three contexts was the chatbot’s tendency to repeat itself, leading to a less engaging and somewhat monotonous interaction. While the thematic adaptation was strong for the creepy hotel, the other versions could benefit from more personalized and varied responses.\n",
    "\t•\tKey Learnings:\n",
    "\t•\tContext Management: Leveraging the conversation context more effectively can help reduce repetitive responses, creating a more dynamic interaction.\n",
    "\t•\tFlexibility: The chatbot needs a better mechanism to handle unrealistic orders or requests in a light-hearted but sensible way.\n",
    "\t•\tTone Adaptation: Maintaining a consistent tone that matches the context (e.g., eerie for a creepy hotel or lively for a tapas bar) significantly enhances the user experience."
   ]
  }
 ],
 "metadata": {
  "colab": {
   "include_colab_link": true,
   "provenance": []
  },
  "kernelspec": {
   "display_name": "myproject_env",
   "language": "python",
   "name": "python3"
  },
  "language_info": {
   "codemirror_mode": {
    "name": "ipython",
    "version": 3
   },
   "file_extension": ".py",
   "mimetype": "text/x-python",
   "name": "python",
   "nbconvert_exporter": "python",
   "pygments_lexer": "ipython3",
   "version": "3.9.19"
  }
 },
 "nbformat": 4,
 "nbformat_minor": 5
}
