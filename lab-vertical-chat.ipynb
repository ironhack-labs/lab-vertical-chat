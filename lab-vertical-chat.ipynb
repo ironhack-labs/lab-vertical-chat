{
 "cells": [
  {
   "cell_type": "markdown",
   "id": "c23b4dd1",
   "metadata": {
    "id": "c23b4dd1"
   },
   "source": [
    "# Vertical Chat\n",
    "A sample how to build a chat for small business using:\n",
    "\n",
    "* GPT 35\n",
    "* Panel\n",
    "* OpenAI\n",
    "\n",
    "\n",
    "This is just a simple sample to start to understand how the OpenAI API works, and how to create Prompts. It Is really far from beign a complete solution.\n",
    "We are going to introduce some interesting points:\n",
    "\n",
    "* The roles in a conversation.\n",
    "* How is the conversations’ memory preserved?\n",
    "\n",
    "Deeper explanations in the article: [Create Your First Chatbot Using GPT 3.5, OpenAI, Python and Panel.](https://medium.com/towards-artificial-intelligence/create-your-first-chatbot-using-gpt-3-5-openai-python-and-panel-7ec180b9d7f2)"
   ]
  },
  {
   "cell_type": "code",
   "execution_count": null,
   "id": "a03f026a",
   "metadata": {
    "id": "a03f026a",
    "tags": []
   },
   "outputs": [],
   "source": [
    "#if you need an API Key from OpenAI\n",
    "#https://platform.openai.com/account/api-keys\n",
    "\n",
    "from openai import OpenAI\n",
    "import os\n",
    "from dotenv import load_dotenv, find_dotenv\n",
    "_ = load_dotenv(find_dotenv('../IHAI-lessons/000_lesson_data/044_llm/.env'))\n",
    "\n",
    "OPENAI_API_KEY  = os.getenv('OPENAI_API_KEY')"
   ]
  },
  {
   "cell_type": "code",
   "execution_count": null,
   "id": "77eac86d",
   "metadata": {
    "id": "77eac86d",
    "tags": []
   },
   "outputs": [],
   "source": [
    "client = OpenAI(\n",
    "    # This is the default and can be omitted\n",
    "    api_key=OPENAI_API_KEY,\n",
    ")\n",
    "\n",
    "def continue_conversation(messages, temperature=0):\n",
    "    response = client.chat.completions.create(\n",
    "        model=\"gpt-3.5-turbo\",\n",
    "        messages=messages,\n",
    "        temperature=temperature,\n",
    "    )\n",
    "    #print(str(response.choices[0].message[\"content\"]))\n",
    "    return response.choices[0].message.content"
   ]
  },
  {
   "cell_type": "code",
   "execution_count": null,
   "id": "51bec475",
   "metadata": {
    "id": "51bec475",
    "tags": []
   },
   "outputs": [],
   "source": [
    "def add_prompts_conversation(_):\n",
    "    #Get the value introduced by the user\n",
    "    prompt = client_prompt.value_input\n",
    "    client_prompt.value = ''\n",
    "\n",
    "    #Append to the context the User prompt.\n",
    "    context.append({'role':'user', 'content':f\"{prompt}\"})\n",
    "\n",
    "    #Get the response.\n",
    "    response = continue_conversation(context)\n",
    "\n",
    "    #Add the response to the context.\n",
    "    context.append({'role':'assistant', 'content':f\"{response}\"})\n",
    "\n",
    "    #Update the panels to show the conversation.\n",
    "    panels.append(\n",
    "        pn.Row('User:', pn.pane.Markdown(prompt, width=600)))\n",
    "    panels.append(\n",
    "        pn.Row('Assistant:', pn.pane.Markdown(response, width=600)))\n",
    "\n",
    "    return pn.Column(*panels)"
   ]
  },
  {
   "cell_type": "code",
   "execution_count": null,
   "id": "922f8d24",
   "metadata": {
    "colab": {
     "base_uri": "https://localhost:8080/",
     "height": 573
    },
    "id": "922f8d24",
    "outputId": "93183987-3b29-4430-d8cc-6d6453a98574",
    "tags": []
   },
   "outputs": [],
   "source": [
    "#Creating the prompt\n",
    "#read and understand it.\n",
    "import panel as pn  # GUI\n",
    "\n",
    "context = [ {'role':'system', 'content':\"\"\"\n",
    "Act as an OrderBot, you work collecting orders in a delivery only fast food restaurant called\n",
    "My Dear Frankfurt. \\\n",
    "First welcome the customer, in a very friendly way, then collects the order. \\\n",
    "You wait to collect the entire order, beverages included \\\n",
    "then summarize it and check for a final \\\n",
    "time if everything is ok or the customer wants to add anything else. \\\n",
    "Finally you collect the payment.\\\n",
    "Make sure to clarify all options, extras and sizes to uniquely \\\n",
    "identify the item from the menu.\\\n",
    "You respond in a short, very friendly style. \\\n",
    "The menu includes \\\n",
    "burger  12.95, 10.00, 7.00 \\\n",
    "frankfurt   10.95, 9.25, 6.50 \\\n",
    "sandwich   11.95, 9.75, 6.75 \\\n",
    "fries 4.50, 3.50 \\\n",
    "salad 7.25 \\\n",
    "Toppings: \\\n",
    "extra cheese 2.00, \\\n",
    "mushrooms 1.50 \\\n",
    "martra sausage 3.00 \\\n",
    "canadian bacon 3.50 \\\n",
    "romesco sauce 1.50 \\\n",
    "peppers 1.00 \\\n",
    "Drinks: \\\n",
    "coke 3.00, 2.00, 1.00 \\\n",
    "sprite 3.00, 2.00, 1.00 \\\n",
    "vichy catalan 5.00 \\\n",
    "\"\"\"} ]\n",
    "\n",
    "#Creating the panel.\n",
    "pn.extension()\n",
    "\n",
    "panels = []\n",
    "\n",
    "client_prompt = pn.widgets.TextInput(value=\"Hi\", placeholder='Enter text here…')\n",
    "button_conversation = pn.widgets.Button(name=\"talk\")\n",
    "\n",
    "interactive_conversation = pn.bind(add_prompts_conversation, button_conversation)\n",
    "\n",
    "dashboard = pn.Column(\n",
    "    client_prompt,\n",
    "    pn.Row(button_conversation),\n",
    "    pn.panel(interactive_conversation, loading_indicator=True),\n",
    ")\n",
    "\n",
    "dashboard"
   ]
  },
  {
   "cell_type": "markdown",
   "id": "711f85ad-7069-41e9-8af3-309b2bc81152",
   "metadata": {},
   "source": [
    "# Exercise\n",
    " - Complete the prompts similar to what we did in class. \n",
    "     - Try at least 3 versions\n",
    "     - Be creative"
   ]
  },
  {
   "cell_type": "code",
   "execution_count": null,
   "id": "8f1b1e38",
   "metadata": {},
   "outputs": [],
   "source": [
    "# VERSION 1\n",
    "# Travel Bot\n",
    "\n",
    "context = [ {'role': 'system', 'content': \"\"\"\n",
    "Act as a TravelBot. You help users plan vacations, suggesting flights, \n",
    "accommodations, activities, and dining options based on their preferences. \n",
    "Start by asking for the destination, dates, and budget, and gather details \n",
    "like the type of activities they enjoy (e.g., adventure, relaxation, cultural experiences). \n",
    "Offer recommendations based on their preferences and budget. \n",
    "Summarize the trip plan and ask if they want to make changes or confirm the booking. \n",
    "Speak in a friendly, enthusiastic tone as if you love traveling yourself. \n",
    "Make sure to confirm all details before finalizing the itinerary.  \n",
    "\"\"\"} ]"
   ]
  },
  {
   "cell_type": "code",
   "execution_count": null,
   "id": "8e4997b4",
   "metadata": {},
   "outputs": [],
   "source": [
    "# VERSION 2\n",
    "# Personal Finance Advisor\n",
    "\n",
    "context = [ {'role': 'system', 'content': \"\"\"\n",
    "Act as a FinanceBot. You assist users in managing their personal finances. \n",
    "Start by greeting the user and asking about their financial goals \n",
    "(e.g., saving for a trip, reducing debt, or general expense tracking). \n",
    "Help them categorize their expenses, set up budgets, and track savings progress. \n",
    "Provide financial advice tailored to their goals, including ways to cut unnecessary spending or invest wisely. \n",
    "Speak in a professional but encouraging tone, making finance management approachable and empowering.  \n",
    "Always summarize the financial plan and ask if there’s anything else the user needs help with.  \n",
    "\"\"\"} ]"
   ]
  },
  {
   "cell_type": "code",
   "execution_count": null,
   "id": "84db3117",
   "metadata": {},
   "outputs": [],
   "source": [
    "# VERSION 3\n",
    "# Homework Helper for Students\n",
    "\n",
    "context = [ {'role': 'system', 'content': \"\"\"\n",
    "Act as a StudyBot, designed to help students with their homework and studies.  \n",
    "Begin by greeting the student in an approachable, friendly tone \n",
    "and asking about the subject or topic they need help with.  \n",
    "Explain concepts clearly and step-by-step, using examples when needed.  \n",
    "For math or science, solve problems interactively, guiding the student \n",
    "through the process rather than just giving the answer.  \n",
    "For essays, offer outlines, tips, or writing suggestions based on the topic.  \n",
    "Encourage students and provide study tips to help them succeed. \n",
    "Always ensure the student feels confident before ending the session.  \n",
    "\"\"\"} ]"
   ]
  },
  {
   "cell_type": "markdown",
   "id": "90b4e092",
   "metadata": {},
   "source": [
    " - Write a report summarizing your findings.\n",
    "     - Were there variations that didn't work well? i.e., where GPT either hallucinated or wrong\n",
    " - What did you learn?"
   ]
  },
  {
   "cell_type": "code",
   "execution_count": null,
   "id": "104813b5-9265-489d-8dc4-2cde2f5ef3af",
   "metadata": {},
   "outputs": [],
   "source": [
    "# REPORT AND FINDINGS\n",
    "\n",
    "# It worked great when I asked simple and clear questions.\n",
    "# The Travel Bot talked about a famous amusement park in a small town that doesn’t exist.\n",
    "# The FinanceBot recommended cryptocurrencies even though I said this would be too risky for me.\n",
    "\n",
    "# They ALL seemed to make things up when they didn’t know the answer. That's the MAIN issue!!\n",
    "\n",
    "# They work surprisingly well right out of the box for simple tasks,\n",
    "# but they are nowhere near production-ready because they lack accuracy,\n",
    "# sometimes hallucinate, and can’t reliably handle complex or specific requests."
   ]
  }
 ],
 "metadata": {
  "colab": {
   "include_colab_link": true,
   "provenance": []
  },
  "kernelspec": {
   "display_name": "Python 3",
   "language": "python",
   "name": "python3"
  },
  "language_info": {
   "codemirror_mode": {
    "name": "ipython",
    "version": 3
   },
   "file_extension": ".py",
   "mimetype": "text/x-python",
   "name": "python",
   "nbconvert_exporter": "python",
   "pygments_lexer": "ipython3",
   "version": "3.11.10"
  }
 },
 "nbformat": 4,
 "nbformat_minor": 5
}
